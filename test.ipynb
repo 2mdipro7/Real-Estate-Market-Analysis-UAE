{
 "cells": [
  {
   "cell_type": "code",
   "execution_count": 19,
   "metadata": {},
   "outputs": [
    {
     "name": "stdout",
     "output_type": "stream",
     "text": [
      "2\n",
      "4\n",
      "6\n",
      "8\n",
      "10\n",
      "12\n",
      "The number of even numbers are:  6\n",
      "The number of odd numbers are:  6\n"
     ]
    }
   ],
   "source": [
    "import numpy as np\n",
    "\n",
    "a = np.array([  [1, 2, 3, 4],\n",
    "                [5, 6, 7, 8], \n",
    "                [9, 10, 11, 12] ])\n",
    "\n",
    "a.T\n",
    "\n",
    "count_even = 0\n",
    "count_odd = 0\n",
    "for i in a:\n",
    "    for y in i:\n",
    "        if y % 2 == 0:\n",
    "            print(y)\n",
    "            count_even += 1\n",
    "        else:\n",
    "            count_odd += 1\n",
    "\n",
    "print(\"The number of even numbers are: \", count_even)\n",
    "print(\"The number of odd numbers are: \", count_odd)\n"
   ]
  },
  {
   "cell_type": "code",
   "execution_count": null,
   "metadata": {},
   "outputs": [],
   "source": []
  }
 ],
 "metadata": {
  "kernelspec": {
   "display_name": "Python 3",
   "language": "python",
   "name": "python3"
  },
  "language_info": {
   "codemirror_mode": {
    "name": "ipython",
    "version": 3
   },
   "file_extension": ".py",
   "mimetype": "text/x-python",
   "name": "python",
   "nbconvert_exporter": "python",
   "pygments_lexer": "ipython3",
   "version": "3.10.6"
  },
  "orig_nbformat": 4
 },
 "nbformat": 4,
 "nbformat_minor": 2
}
